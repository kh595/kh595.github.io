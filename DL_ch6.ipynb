{
 "cells": [
  {
   "cell_type": "markdown",
   "metadata": {},
   "source": [
    "## 6.1. Example : Learning XOR\n",
    "\n",
    "$ J(\\theta) = \\cfrac{1}{4}\\Sigma_{x} $ "
   ]
  },
  {
   "cell_type": "markdown",
   "metadata": {},
   "source": [
    "## 6.3. Hidden Units\n",
    "\n",
    "Relu 는 z=0 에서 미분 불가능하지만,\n",
    "좌극한은 0, 우극한은 1 이므로,\n",
    "어쨋든 구현된 SW는 값을 내어 놓는다.\n",
    "\n",
    "### 6.3.1. Rectified Linear Units and Their Generalizations\n",
    "g$(z) = max\\{0,z\\} $\n",
    "\n",
    "leaky Relu $ h_i = g(z,\\alpha)_i = max(0, z_i) + \\alpha_imin(0,z_i) $"
   ]
  },
  {
   "cell_type": "code",
   "execution_count": null,
   "metadata": {
    "collapsed": true
   },
   "outputs": [],
   "source": []
  }
 ],
 "metadata": {
  "kernelspec": {
   "display_name": "Python 3",
   "language": "python",
   "name": "python3"
  },
  "language_info": {
   "codemirror_mode": {
    "name": "ipython",
    "version": 3
   },
   "file_extension": ".py",
   "mimetype": "text/x-python",
   "name": "python",
   "nbconvert_exporter": "python",
   "pygments_lexer": "ipython3",
   "version": "3.6.3"
  }
 },
 "nbformat": 4,
 "nbformat_minor": 2
}
