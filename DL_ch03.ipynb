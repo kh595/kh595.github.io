{
 "cells": [
  {
   "cell_type": "code",
   "execution_count": 1,
   "metadata": {
    "collapsed": true
   },
   "outputs": [],
   "source": [
    "import pandas as pd\n",
    "import numpy as np\n",
    "import matplotlib.pyplot as plt\n",
    "%matplotlib inline"
   ]
  },
  {
   "cell_type": "markdown",
   "metadata": {},
   "source": [
    "## 3.13. Information Theory\n",
    "\n",
    "### 1) self-infomation : $ I(x) = -log P(x) $ \n",
    "\n",
    "### 2) Shanon entory : $ H(x) = \\mathbb{E}_{x \\sim P}[I(x)] = -\\mathbb{E}_{x \\sim P}[logP(x)]$\n",
    "\n",
    "### 3) Kullback-Leibler (KL) divergence :\n",
    "### $ D_{KL}(P||Q) = \\mathbb{E}_{X \\sim P} \\left[ log\\cfrac{P(x)}{Q(x} \\right] = \\mathbb{E}_{X \\sim P} \\left[ logP(x) - logQ(x) \\right] $\n",
    "\n",
    "### 4) cross-entroy :\n",
    "###  $ H(P,Q) = H(P) + D_{KL}(P||Q) = -\\mathbb{E}_{X \\sim P} logQ(x)$"
   ]
  },
  {
   "cell_type": "code",
   "execution_count": 47,
   "metadata": {},
   "outputs": [
    {
     "data": {
      "image/png": "[encoded data removed]",
      "text/plain": [
       "<matplotlib.figure.Figure at 0x23dd726a5c0>"
      ]
     },
     "metadata": {},
     "output_type": "display_data"
    },
    {
     "data": {
      "image/png": "[encoded data removed]",
      "text/plain": [
       "<matplotlib.figure.Figure at 0x23dd7df3358>"
      ]
     },
     "metadata": {},
     "output_type": "display_data"
    }
   ],
   "source": [
    "p_x = np.array([0.2, 0.3, 0.4, 0.1])\n",
    "q_x = np.array([0.1, 0.3, 0.2, 0.4])\n",
    "\n",
    "plt.title('P')\n",
    "plt.bar(np.arange(len(p_x)), p_x)\n",
    "plt.show()\n",
    "\n",
    "plt.title('Q')\n",
    "plt.bar(np.arange(len(q_x)), q_x)\n",
    "plt.show()"
   ]
  },
  {
   "cell_type": "code",
   "execution_count": 48,
   "metadata": {},
   "outputs": [
    {
     "name": "stdout",
     "output_type": "stream",
     "text": [
      "# probability :  [ 0.2  0.3  0.4  0.1]\n",
      "# self-information :  [ 1.60943791  1.2039728   0.91629073  2.30258509]\n",
      "# Shannon entroy :  1.27985422583\n"
     ]
    }
   ],
   "source": [
    "i_x = -np.log(px)    \n",
    "h_x = np.sum(px*i_x) \n",
    "\n",
    "print('# probability : ' , p_x)\n",
    "print('# self-information : ', i_x)\n",
    "print('# Shannon entroy : ', h_x)"
   ]
  },
  {
   "cell_type": "code",
   "execution_count": 49,
   "metadata": {},
   "outputs": [
    {
     "name": "stdout",
     "output_type": "stream",
     "text": [
      "# KL divergence :  0.277258872224\n",
      "# cross-entropy :  1.55711309806\n",
      "H(P,Q) = H(P)+DKL(P||Q) 1.55711309806 = 1.27985422583 + 0.277258872224\n"
     ]
    }
   ],
   "source": [
    "d_kl_p_q = np.sum(p_x*np.log(p_x / q_x))\n",
    "h_p_q = -np.sum(p_x*np.log(q_x))\n",
    "\n",
    "print('# KL divergence : ', d_kl_p_q)\n",
    "print('# cross-entropy : ', h_p_q)\n",
    "print(\"H(P,Q) = H(P)+DKL(P||Q)\", h_p_q, \"=\", h_x, \"+\", d_kl_p_q)"
   ]
  },
  {
   "cell_type": "code",
   "execution_count": null,
   "metadata": {
    "collapsed": true
   },
   "outputs": [],
   "source": []
  }
 ],
 "metadata": {
  "kernelspec": {
   "display_name": "Python 3",
   "language": "python",
   "name": "python3"
  },
  "language_info": {
   "codemirror_mode": {
    "name": "ipython",
    "version": 3
   },
   "file_extension": ".py",
   "mimetype": "text/x-python",
   "name": "python",
   "nbconvert_exporter": "python",
   "pygments_lexer": "ipython3",
   "version": "3.6.3"
  }
 },
 "nbformat": 4,
 "nbformat_minor": 2
}
